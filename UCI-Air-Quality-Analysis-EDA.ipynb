{
 "cells": [
  {
   "cell_type": "markdown",
   "id": "424988fa",
   "metadata": {},
   "source": [
    "# Air-Quality-Dataset-Analysis-EDA"
   ]
  },
  {
   "cell_type": "markdown",
   "id": "e9b3f8e4",
   "metadata": {},
   "source": [
    "### Python · UCI ML Air Quality Dataset"
   ]
  },
  {
   "cell_type": "markdown",
   "id": "f3774cf5",
   "metadata": {},
   "source": [
    "## Air-Quality-Dataset-Analysis-EDA¶"
   ]
  },
  {
   "cell_type": "markdown",
   "id": "8f7ea0fb",
   "metadata": {},
   "source": [
    "### Project Description"
   ]
  },
  {
   "cell_type": "markdown",
   "id": "22643e15",
   "metadata": {},
   "source": [
    "In this project Rodrigo Franco and Gunnar David analyse the UCI Air Quality Dataset qualitatively and quantitativly. We will clean, wrangle and visualize the data. The goal of this study is to better understand the impact of the explanatory variables on the air pollution. The sensor data was recorded in Italy March 2004 to February 2005 (one year) [UCI Air Quality Dataset](https://archive.ics.uci.edu/ml/datasets/air+quality)."
   ]
  },
  {
   "cell_type": "markdown",
   "id": "98c882c4",
   "metadata": {},
   "source": [
    "## In this notebook, you'll find:\n",
    "- About the dataset\n",
    "- Exploratory Data Analysis\n",
    "- Data Visualization\n",
    "- Summary of extracted patterns and relationships within the datset"
   ]
  },
  {
   "cell_type": "markdown",
   "id": "28f51f88",
   "metadata": {},
   "source": [
    "## Dependencies:\n",
    "- Matplotlib\n",
    "- Plotly\n",
    "- Seaborn\n",
    "- NumPy\n",
    "- Pandas"
   ]
  },
  {
   "cell_type": "markdown",
   "id": "26014285",
   "metadata": {},
   "source": [
    "## Contents"
   ]
  },
  {
   "cell_type": "code",
   "execution_count": 2,
   "id": "6c532d37",
   "metadata": {},
   "outputs": [],
   "source": [
    "##### insert TOC with nbextensions #####"
   ]
  },
  {
   "cell_type": "markdown",
   "id": "0c12720a",
   "metadata": {},
   "source": [
    "## About the dataset\n",
    "The dataset contains 9358 instances of hourly averaged responses from an array of 5 metal oxide chemical sensors embedded in an Air Quality Chemical Multisensor Device. The device was located on the field in a significantly polluted area, at road level,within an Italian city. Data were recorded from March 2004 to February 2005 (one year)representing the longest freely available recordings of on field deployed air quality chemical sensor devices responses. Ground Truth hourly averaged concentrations for CO, Non Metanic Hydrocarbons,Benzene, Total Nitrogen Oxides (NOx) and Nitrogen Dioxide (NO2) and were provided by a co-located reference certified analyzer."
   ]
  },
  {
   "cell_type": "markdown",
   "id": "69745212",
   "metadata": {},
   "source": [
    "### Summary report:"
   ]
  },
  {
   "cell_type": "code",
   "execution_count": 1,
   "id": "661588ce",
   "metadata": {},
   "outputs": [],
   "source": [
    "#########GOOGLE DRIVE #######"
   ]
  },
  {
   "cell_type": "markdown",
   "id": "8ddcc239",
   "metadata": {},
   "source": [
    "## Loading and understanding the dataset"
   ]
  },
  {
   "cell_type": "code",
   "execution_count": null,
   "id": "e3bcc302",
   "metadata": {},
   "outputs": [],
   "source": [
    "#Importing all the dependencies \n",
    "import pandas as pd \n",
    "import numpy as np \n",
    "from matplotlib import pyplot as plt\n",
    "import seaborn as sns\n",
    "import plotly.express as px\n",
    "import plotly.graph_objects as go\n",
    "\n",
    "df = pd.read_csv(\"../input/datasetucimlairquality/AirQualityUCI.csv\", parse_dates={'datetime': ['Date', 'Time']})"
   ]
  }
 ],
 "metadata": {
  "kernelspec": {
   "display_name": "Python 3 (ipykernel)",
   "language": "python",
   "name": "python3"
  },
  "language_info": {
   "codemirror_mode": {
    "name": "ipython",
    "version": 3
   },
   "file_extension": ".py",
   "mimetype": "text/x-python",
   "name": "python",
   "nbconvert_exporter": "python",
   "pygments_lexer": "ipython3",
   "version": "3.7.13"
  }
 },
 "nbformat": 4,
 "nbformat_minor": 5
}
