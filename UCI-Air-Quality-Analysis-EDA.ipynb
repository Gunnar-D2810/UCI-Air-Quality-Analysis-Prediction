{
 "cells": [
  {
   "cell_type": "markdown",
   "id": "dd9b67ff",
   "metadata": {},
   "source": [
    "# Air-Quality-Dataset-Analysis-EDA"
   ]
  },
  {
   "cell_type": "markdown",
   "id": "cb0ec3b9",
   "metadata": {},
   "source": [
    "### Python · UCI ML Air Quality Dataset"
   ]
  },
  {
   "cell_type": "markdown",
   "id": "c1b7b134",
   "metadata": {},
   "source": [
    "## Air-Quality-Dataset-Analysis-EDA¶"
   ]
  },
  {
   "cell_type": "markdown",
   "id": "97a6be02",
   "metadata": {},
   "source": [
    "### Project Description"
   ]
  },
  {
   "cell_type": "markdown",
   "id": "4e635ca9",
   "metadata": {},
   "source": [
    "In this project Rodrigo Franco and Gunnar David analyse the UCI Air Quality (AQ) Dataset qualitatively and quantitativly. We will clean, wrangle and visualize the data. The goal of this study is to better understand the impact of the explanatory variables on the air pollution. The sensor data was recorded in Italy March 2004 to February 2005 (one year) [UCI AQ Dataset](https://archive.ics.uci.edu/ml/datasets/air+quality)."
   ]
  },
  {
   "cell_type": "markdown",
   "id": "5d936049",
   "metadata": {},
   "source": [
    "## In this notebook, you'll find:\n",
    "- About the dataset\n",
    "- Exploratory Data Analysis\n",
    "- Data Visualization\n",
    "- Summary of extracted patterns and relationships within the datset"
   ]
  },
  {
   "cell_type": "markdown",
   "id": "5e0f775c",
   "metadata": {},
   "source": [
    "## Dependencies:\n",
    "- Matplotlib\n",
    "- Plotly\n",
    "- Seaborn\n",
    "- NumPy\n",
    "- Pandas"
   ]
  },
  {
   "cell_type": "markdown",
   "id": "08e16908",
   "metadata": {},
   "source": [
    "## Contents"
   ]
  },
  {
   "cell_type": "code",
   "execution_count": 2,
   "id": "e3514f21",
   "metadata": {},
   "outputs": [],
   "source": [
    "##### insert TOC with nbextensions #####"
   ]
  },
  {
   "cell_type": "markdown",
   "id": "6ce8a2b7",
   "metadata": {},
   "source": [
    "## About the dataset\n",
    "The dataset contains 9358 instances of hourly averaged responses from an array of 5 metal oxide chemical sensors embedded in an AQ Chemical Multisensor Device. The device was located on the field in a significantly polluted area, at road level,within an Italian city. Data were recorded from March 2004 to February 2005 (one year) representing the longest freely available recordings of on field deployed air quality chemical sensor devices responses. Ground Truth hourly averaged concentrations for CO, Non Metanic Hydrocarbons, Benzene, Total Nitrogen Oxides (NOx) and Nitrogen Dioxide (NO2) and were provided by a co-located reference certified analyzer."
   ]
  },
  {
   "cell_type": "markdown",
   "id": "e1bc830f",
   "metadata": {},
   "source": [
    "### Summary report:"
   ]
  },
  {
   "cell_type": "code",
   "execution_count": 1,
   "id": "69d13283",
   "metadata": {},
   "outputs": [],
   "source": [
    "#########GOOGLE DRIVE #######"
   ]
  },
  {
   "cell_type": "markdown",
   "id": "15ea9b04",
   "metadata": {},
   "source": [
    "# Detailed exploratory data analysis with python"
   ]
  },
  {
   "cell_type": "markdown",
   "id": "5877895e",
   "metadata": {},
   "source": [
    "# Case Study: UCI Air Quality Dataset - EDA"
   ]
  },
  {
   "cell_type": "markdown",
   "id": "1a3f0016",
   "metadata": {},
   "source": [
    "## Exploratory data analysis (EDA)\n",
    "The purpose of this EDA is to find insights which will serve us later in another notebook for Data cleaning/preparation/transformation which will ultimately be used into a machine learning algorithm and deep neural nets. We will proceed as follow:"
   ]
  },
  {
   "cell_type": "code",
   "execution_count": 15,
   "id": "045c84e7",
   "metadata": {},
   "outputs": [
    {
     "data": {
      "image/png": "[encoded data removed]",
      "text/plain": [
       "<IPython.core.display.Image object>"
      ]
     },
     "execution_count": 15,
     "metadata": {},
     "output_type": "execute_result"
    }
   ],
   "source": [
    "from  IPython.display import Image\n",
    "Image(\"http://sharpsightlabs.com/wp-content/uploads/2016/05/1_data-analysis-for-ML_how-we-use-dataAnalysis_2016-05-16.png\")"
   ]
  },
  {
   "cell_type": "markdown",
   "id": "04b69382",
   "metadata": {},
   "source": [
    "#BREAKDOWN OF TASKS PERFORMED IN THE ANALYSIS\n",
    "# Activites List\n",
    "It is highly encouraged to work in a group of two students for the lab of this case study.\n",
    "Important: for Activity 3 and Activity 4 , please use the file Data_Marketing_Customer_Analysis_Round3.csv from the Data folder.\n",
    "## Activity 3 (Wednesday) UPDATE UPDATE UPDATE\n",
    "- Get the numeric data into dataframe called numerical and categorical columns in a dataframe called categoricals. (You can use np.number and np.object to select the numerical data types and categorical data types respectively)\n",
    "- Now we will try to check the normality of the numerical variables visually\n",
    "    - Use seaborn library to construct distribution plots for the numerical variables\n",
    "    - Use Matplotlib to construct histograms\n",
    "    - Do the distributions for different numerical variables look like a normal distribution\n",
    "- For the numerical variables, check the multicollinearity between the features. Please note that we will use the column total_claim_amount later as the target variable.\n",
    "- Optional: Drop one of the two features that show a high correlation between them (greater than 0.9). If there is no pair of features that have a high correlation, then do not drop any features."
   ]
  },
  {
   "cell_type": "markdown",
   "id": "f7a7c47a",
   "metadata": {},
   "source": [
    "## Loading and understanding the dataset"
   ]
  },
  {
   "cell_type": "code",
   "execution_count": 16,
   "id": "b191a4a9",
   "metadata": {},
   "outputs": [],
   "source": [
    "#Importing all the dependencies \n",
    "import pandas as pd \n",
    "import numpy as np \n",
    "from matplotlib import pyplot as plt\n",
    "import seaborn as sns\n",
    "import plotly.express as px\n",
    "import plotly.graph_objects as go\n",
    "import statsmodels.api as sm\n",
    "from scipy.stats import boxcox\n",
    "import missingno as msno\n",
    "import plotly\n",
    "from sklearn import preprocessing\n",
    "from sklearn.linear_model import LinearRegression\n",
    "\n",
    "pd.options.display.max_rows = 100\n",
    "## Install xlrd package to load Excel files\n",
    "#!conda install openpyxl\n",
    "#!conda install xlrd\n",
    "\n",
    "df = pd.read_csv(\"/Users/Gunnar/Documents/GitHub/UCI-Air-Quality-Analysis-Prediction-/input/AirQualityUCI.csv\", parse_dates={'datetime': ['Date', 'Time']})"
   ]
  },
  {
   "cell_type": "markdown",
   "id": "6c2b2ba0",
   "metadata": {},
   "source": [
    "### Attribute Information:  \n",
    "\n",
    "**DATETIME** \n",
    "\n",
    "Date (DD/MM/YYYY)   \n",
    "Time (HH.MM.SS)   \n",
    "\n",
    "**POLLUTANTS VARIABLES**  \n",
    "\n",
    "CO_GT - True hourly averaged concentration CO in mg/m^3    \n",
    "PT08_S1_CO - PT08.S1 (tin oxide) hourly averaged sensor response (nominally CO targeted)    \n",
    "C6H6_GT- True hourly averaged overall Non Metanic HydroCarbons concentration in microg/m^3 (reference analyzer)    \n",
    "True hourly averaged Benzene concentration in microg/m^3 (reference analyzer)     \n",
    "PT08_S2_NMHC- PT08.S2 (titania) hourly averaged sensor response (nominally NMHC targeted)    \n",
    "Nox_GT- True hourly averaged Nitric oxide concentration in ppb (reference analyzer)    \n",
    "PT08_S3_Nox- PT08.S3 (tungsten oxide) hourly averaged sensor response (nominally NOx targeted)    \n",
    "NO2_GT- True hourly averaged NO2 concentration in microg/m^3 (reference analyzer)    \n",
    "PT08_S4_NO2- PT08.S4 (tungsten oxide) hourly averaged sensor response (nominally NO2 targeted)    \n",
    "PT08_S5_O3 - PT08.S5 (indium oxide) hourly averaged sensor response (nominally O3 targeted)    \n",
    "\n",
    "**ENVIRONMENTAL VARIABLES**  \n",
    "\n",
    "T - Temperature in Â°C    \n",
    "RH- Relative Humidity (%)    \n",
    "AH - Absolute Humidity    "
   ]
  },
  {
   "cell_type": "code",
   "execution_count": 12,
   "id": "d6284d22",
   "metadata": {},
   "outputs": [
    {
     "data": {
      "text/html": [
       "<div>\n",
       "<style scoped>\n",
       "    .dataframe tbody tr th:only-of-type {\n",
       "        vertical-align: middle;\n",
       "    }\n",
       "\n",
       "    .dataframe tbody tr th {\n",
       "        vertical-align: top;\n",
       "    }\n",
       "\n",
       "    .dataframe thead th {\n",
       "        text-align: right;\n",
       "    }\n",
       "</style>\n",
       "<table border=\"1\" class=\"dataframe\">\n",
       "  <thead>\n",
       "    <tr style=\"text-align: right;\">\n",
       "      <th></th>\n",
       "      <th>datetime</th>\n",
       "      <th>CO_GT</th>\n",
       "      <th>PT08_S1_CO</th>\n",
       "      <th>NMHC_GT</th>\n",
       "      <th>C6H6_GT</th>\n",
       "      <th>PT08_S2_NMHC</th>\n",
       "      <th>Nox_GT</th>\n",
       "      <th>PT08_S3_Nox</th>\n",
       "      <th>NO2_GT</th>\n",
       "      <th>PT08_S4_NO2</th>\n",
       "      <th>PT08_S5_O3</th>\n",
       "      <th>T</th>\n",
       "      <th>RH</th>\n",
       "      <th>AH</th>\n",
       "      <th>CO_level</th>\n",
       "    </tr>\n",
       "  </thead>\n",
       "  <tbody>\n",
       "    <tr>\n",
       "      <th>0</th>\n",
       "      <td>2004-11-23 19:00:00</td>\n",
       "      <td>11.9</td>\n",
       "      <td>2008</td>\n",
       "      <td>-200</td>\n",
       "      <td>50.6</td>\n",
       "      <td>1980</td>\n",
       "      <td>1389</td>\n",
       "      <td>325</td>\n",
       "      <td>220</td>\n",
       "      <td>2562</td>\n",
       "      <td>2342</td>\n",
       "      <td>12.4</td>\n",
       "      <td>74.7</td>\n",
       "      <td>1.0741</td>\n",
       "      <td>Very High</td>\n",
       "    </tr>\n",
       "    <tr>\n",
       "      <th>1</th>\n",
       "      <td>2004-11-23 20:00:00</td>\n",
       "      <td>11.5</td>\n",
       "      <td>1918</td>\n",
       "      <td>-200</td>\n",
       "      <td>49.4</td>\n",
       "      <td>1958</td>\n",
       "      <td>1358</td>\n",
       "      <td>335</td>\n",
       "      <td>190</td>\n",
       "      <td>2477</td>\n",
       "      <td>2237</td>\n",
       "      <td>11.5</td>\n",
       "      <td>76.2</td>\n",
       "      <td>1.0324</td>\n",
       "      <td>Very High</td>\n",
       "    </tr>\n",
       "    <tr>\n",
       "      <th>2</th>\n",
       "      <td>2004-11-17 18:00:00</td>\n",
       "      <td>10.2</td>\n",
       "      <td>1802</td>\n",
       "      <td>-200</td>\n",
       "      <td>47.7</td>\n",
       "      <td>1924</td>\n",
       "      <td>748</td>\n",
       "      <td>356</td>\n",
       "      <td>192</td>\n",
       "      <td>2235</td>\n",
       "      <td>2452</td>\n",
       "      <td>13.7</td>\n",
       "      <td>52.8</td>\n",
       "      <td>0.8244</td>\n",
       "      <td>Very High</td>\n",
       "    </tr>\n",
       "    <tr>\n",
       "      <th>3</th>\n",
       "      <td>2004-11-23 18:00:00</td>\n",
       "      <td>10.2</td>\n",
       "      <td>1982</td>\n",
       "      <td>-200</td>\n",
       "      <td>49.5</td>\n",
       "      <td>1959</td>\n",
       "      <td>1369</td>\n",
       "      <td>322</td>\n",
       "      <td>227</td>\n",
       "      <td>2536</td>\n",
       "      <td>2386</td>\n",
       "      <td>13.2</td>\n",
       "      <td>72.6</td>\n",
       "      <td>1.0936</td>\n",
       "      <td>Very High</td>\n",
       "    </tr>\n",
       "    <tr>\n",
       "      <th>4</th>\n",
       "      <td>2004-11-26 18:00:00</td>\n",
       "      <td>10.1</td>\n",
       "      <td>1956</td>\n",
       "      <td>-200</td>\n",
       "      <td>45.2</td>\n",
       "      <td>1877</td>\n",
       "      <td>1389</td>\n",
       "      <td>347</td>\n",
       "      <td>255</td>\n",
       "      <td>2338</td>\n",
       "      <td>2465</td>\n",
       "      <td>15.5</td>\n",
       "      <td>62.8</td>\n",
       "      <td>1.0979</td>\n",
       "      <td>Very High</td>\n",
       "    </tr>\n",
       "  </tbody>\n",
       "</table>\n",
       "</div>"
      ],
      "text/plain": [
       "             datetime  CO_GT  PT08_S1_CO  NMHC_GT  C6H6_GT  PT08_S2_NMHC  \\\n",
       "0 2004-11-23 19:00:00   11.9        2008     -200     50.6          1980   \n",
       "1 2004-11-23 20:00:00   11.5        1918     -200     49.4          1958   \n",
       "2 2004-11-17 18:00:00   10.2        1802     -200     47.7          1924   \n",
       "3 2004-11-23 18:00:00   10.2        1982     -200     49.5          1959   \n",
       "4 2004-11-26 18:00:00   10.1        1956     -200     45.2          1877   \n",
       "\n",
       "   Nox_GT  PT08_S3_Nox  NO2_GT  PT08_S4_NO2  PT08_S5_O3     T    RH      AH  \\\n",
       "0    1389          325     220         2562        2342  12.4  74.7  1.0741   \n",
       "1    1358          335     190         2477        2237  11.5  76.2  1.0324   \n",
       "2     748          356     192         2235        2452  13.7  52.8  0.8244   \n",
       "3    1369          322     227         2536        2386  13.2  72.6  1.0936   \n",
       "4    1389          347     255         2338        2465  15.5  62.8  1.0979   \n",
       "\n",
       "    CO_level  \n",
       "0  Very High  \n",
       "1  Very High  \n",
       "2  Very High  \n",
       "3  Very High  \n",
       "4  Very High  "
      ]
     },
     "execution_count": 12,
     "metadata": {},
     "output_type": "execute_result"
    }
   ],
   "source": [
    "#check the head of the dataset\n",
    "df.head()"
   ]
  },
  {
   "cell_type": "code",
   "execution_count": 26,
   "id": "e5076d41",
   "metadata": {},
   "outputs": [
    {
     "data": {
      "text/html": [
       "<div>\n",
       "<style scoped>\n",
       "    .dataframe tbody tr th:only-of-type {\n",
       "        vertical-align: middle;\n",
       "    }\n",
       "\n",
       "    .dataframe tbody tr th {\n",
       "        vertical-align: top;\n",
       "    }\n",
       "\n",
       "    .dataframe thead th {\n",
       "        text-align: right;\n",
       "    }\n",
       "</style>\n",
       "<table border=\"1\" class=\"dataframe\">\n",
       "  <thead>\n",
       "    <tr style=\"text-align: right;\">\n",
       "      <th></th>\n",
       "      <th>datetime</th>\n",
       "      <th>CO_GT</th>\n",
       "      <th>PT08_S1_CO</th>\n",
       "      <th>NMHC_GT</th>\n",
       "      <th>C6H6_GT</th>\n",
       "      <th>PT08_S2_NMHC</th>\n",
       "      <th>Nox_GT</th>\n",
       "      <th>PT08_S3_Nox</th>\n",
       "      <th>NO2_GT</th>\n",
       "      <th>PT08_S4_NO2</th>\n",
       "      <th>PT08_S5_O3</th>\n",
       "      <th>T</th>\n",
       "      <th>RH</th>\n",
       "      <th>AH</th>\n",
       "      <th>CO_level</th>\n",
       "    </tr>\n",
       "  </thead>\n",
       "  <tbody>\n",
       "    <tr>\n",
       "      <th>9352</th>\n",
       "      <td>2005-03-23 04:00:00</td>\n",
       "      <td>-200.0</td>\n",
       "      <td>993</td>\n",
       "      <td>-200</td>\n",
       "      <td>2.3</td>\n",
       "      <td>604</td>\n",
       "      <td>85</td>\n",
       "      <td>848</td>\n",
       "      <td>65</td>\n",
       "      <td>1160</td>\n",
       "      <td>762</td>\n",
       "      <td>14.5</td>\n",
       "      <td>66.4</td>\n",
       "      <td>1.0919</td>\n",
       "      <td>Very low</td>\n",
       "    </tr>\n",
       "    <tr>\n",
       "      <th>9353</th>\n",
       "      <td>2005-03-26 04:00:00</td>\n",
       "      <td>-200.0</td>\n",
       "      <td>1122</td>\n",
       "      <td>-200</td>\n",
       "      <td>6.0</td>\n",
       "      <td>811</td>\n",
       "      <td>181</td>\n",
       "      <td>641</td>\n",
       "      <td>92</td>\n",
       "      <td>1336</td>\n",
       "      <td>1122</td>\n",
       "      <td>16.2</td>\n",
       "      <td>71.2</td>\n",
       "      <td>1.3013</td>\n",
       "      <td>Very low</td>\n",
       "    </tr>\n",
       "    <tr>\n",
       "      <th>9354</th>\n",
       "      <td>2005-03-29 04:00:00</td>\n",
       "      <td>-200.0</td>\n",
       "      <td>883</td>\n",
       "      <td>-200</td>\n",
       "      <td>1.3</td>\n",
       "      <td>530</td>\n",
       "      <td>63</td>\n",
       "      <td>997</td>\n",
       "      <td>46</td>\n",
       "      <td>1102</td>\n",
       "      <td>617</td>\n",
       "      <td>13.7</td>\n",
       "      <td>68.2</td>\n",
       "      <td>1.0611</td>\n",
       "      <td>Very low</td>\n",
       "    </tr>\n",
       "    <tr>\n",
       "      <th>9355</th>\n",
       "      <td>2005-04-01 04:00:00</td>\n",
       "      <td>-200.0</td>\n",
       "      <td>818</td>\n",
       "      <td>-200</td>\n",
       "      <td>0.8</td>\n",
       "      <td>473</td>\n",
       "      <td>47</td>\n",
       "      <td>1257</td>\n",
       "      <td>41</td>\n",
       "      <td>898</td>\n",
       "      <td>323</td>\n",
       "      <td>13.7</td>\n",
       "      <td>48.8</td>\n",
       "      <td>0.7606</td>\n",
       "      <td>Very low</td>\n",
       "    </tr>\n",
       "    <tr>\n",
       "      <th>9356</th>\n",
       "      <td>2005-04-04 04:00:00</td>\n",
       "      <td>-200.0</td>\n",
       "      <td>864</td>\n",
       "      <td>-200</td>\n",
       "      <td>0.8</td>\n",
       "      <td>478</td>\n",
       "      <td>52</td>\n",
       "      <td>1116</td>\n",
       "      <td>43</td>\n",
       "      <td>958</td>\n",
       "      <td>489</td>\n",
       "      <td>11.8</td>\n",
       "      <td>56.0</td>\n",
       "      <td>0.7743</td>\n",
       "      <td>Very low</td>\n",
       "    </tr>\n",
       "  </tbody>\n",
       "</table>\n",
       "</div>"
      ],
      "text/plain": [
       "                datetime  CO_GT  PT08_S1_CO  NMHC_GT  C6H6_GT  PT08_S2_NMHC  \\\n",
       "9352 2005-03-23 04:00:00 -200.0         993     -200      2.3           604   \n",
       "9353 2005-03-26 04:00:00 -200.0        1122     -200      6.0           811   \n",
       "9354 2005-03-29 04:00:00 -200.0         883     -200      1.3           530   \n",
       "9355 2005-04-01 04:00:00 -200.0         818     -200      0.8           473   \n",
       "9356 2005-04-04 04:00:00 -200.0         864     -200      0.8           478   \n",
       "\n",
       "      Nox_GT  PT08_S3_Nox  NO2_GT  PT08_S4_NO2  PT08_S5_O3     T    RH  \\\n",
       "9352      85          848      65         1160         762  14.5  66.4   \n",
       "9353     181          641      92         1336        1122  16.2  71.2   \n",
       "9354      63          997      46         1102         617  13.7  68.2   \n",
       "9355      47         1257      41          898         323  13.7  48.8   \n",
       "9356      52         1116      43          958         489  11.8  56.0   \n",
       "\n",
       "          AH  CO_level  \n",
       "9352  1.0919  Very low  \n",
       "9353  1.3013  Very low  \n",
       "9354  1.0611  Very low  \n",
       "9355  0.7606  Very low  \n",
       "9356  0.7743  Very low  "
      ]
     },
     "execution_count": 26,
     "metadata": {},
     "output_type": "execute_result"
    }
   ],
   "source": [
    "#check the tail of the dataset\n",
    "df.tail()"
   ]
  },
  {
   "cell_type": "code",
   "execution_count": 25,
   "id": "986aa40c",
   "metadata": {},
   "outputs": [
    {
     "data": {
      "text/html": [
       "<div>\n",
       "<style scoped>\n",
       "    .dataframe tbody tr th:only-of-type {\n",
       "        vertical-align: middle;\n",
       "    }\n",
       "\n",
       "    .dataframe tbody tr th {\n",
       "        vertical-align: top;\n",
       "    }\n",
       "\n",
       "    .dataframe thead th {\n",
       "        text-align: right;\n",
       "    }\n",
       "</style>\n",
       "<table border=\"1\" class=\"dataframe\">\n",
       "  <thead>\n",
       "    <tr style=\"text-align: right;\">\n",
       "      <th></th>\n",
       "      <th>CO_GT</th>\n",
       "      <th>PT08_S1_CO</th>\n",
       "      <th>NMHC_GT</th>\n",
       "      <th>C6H6_GT</th>\n",
       "      <th>PT08_S2_NMHC</th>\n",
       "      <th>Nox_GT</th>\n",
       "      <th>PT08_S3_Nox</th>\n",
       "      <th>NO2_GT</th>\n",
       "      <th>PT08_S4_NO2</th>\n",
       "      <th>PT08_S5_O3</th>\n",
       "      <th>T</th>\n",
       "      <th>RH</th>\n",
       "      <th>AH</th>\n",
       "    </tr>\n",
       "  </thead>\n",
       "  <tbody>\n",
       "    <tr>\n",
       "      <th>count</th>\n",
       "      <td>9357.000000</td>\n",
       "      <td>9357.000000</td>\n",
       "      <td>9357.000000</td>\n",
       "      <td>9357.000000</td>\n",
       "      <td>9357.000000</td>\n",
       "      <td>9357.000000</td>\n",
       "      <td>9357.000000</td>\n",
       "      <td>9357.000000</td>\n",
       "      <td>9357.000000</td>\n",
       "      <td>9357.000000</td>\n",
       "      <td>9357.000000</td>\n",
       "      <td>9357.000000</td>\n",
       "      <td>9357.000000</td>\n",
       "    </tr>\n",
       "    <tr>\n",
       "      <th>mean</th>\n",
       "      <td>-34.207524</td>\n",
       "      <td>1048.990061</td>\n",
       "      <td>-159.090093</td>\n",
       "      <td>1.865683</td>\n",
       "      <td>894.595276</td>\n",
       "      <td>168.616971</td>\n",
       "      <td>794.990168</td>\n",
       "      <td>58.148873</td>\n",
       "      <td>1391.479641</td>\n",
       "      <td>975.072032</td>\n",
       "      <td>9.778305</td>\n",
       "      <td>39.485380</td>\n",
       "      <td>-6.837604</td>\n",
       "    </tr>\n",
       "    <tr>\n",
       "      <th>std</th>\n",
       "      <td>77.657170</td>\n",
       "      <td>329.832710</td>\n",
       "      <td>139.789093</td>\n",
       "      <td>41.380206</td>\n",
       "      <td>342.333252</td>\n",
       "      <td>257.433866</td>\n",
       "      <td>321.993552</td>\n",
       "      <td>126.940455</td>\n",
       "      <td>467.210125</td>\n",
       "      <td>456.938184</td>\n",
       "      <td>43.203623</td>\n",
       "      <td>51.216145</td>\n",
       "      <td>38.976670</td>\n",
       "    </tr>\n",
       "    <tr>\n",
       "      <th>min</th>\n",
       "      <td>-200.000000</td>\n",
       "      <td>-200.000000</td>\n",
       "      <td>-200.000000</td>\n",
       "      <td>-200.000000</td>\n",
       "      <td>-200.000000</td>\n",
       "      <td>-200.000000</td>\n",
       "      <td>-200.000000</td>\n",
       "      <td>-200.000000</td>\n",
       "      <td>-200.000000</td>\n",
       "      <td>-200.000000</td>\n",
       "      <td>-200.000000</td>\n",
       "      <td>-200.000000</td>\n",
       "      <td>-200.000000</td>\n",
       "    </tr>\n",
       "    <tr>\n",
       "      <th>25%</th>\n",
       "      <td>0.600000</td>\n",
       "      <td>921.000000</td>\n",
       "      <td>-200.000000</td>\n",
       "      <td>4.000000</td>\n",
       "      <td>711.000000</td>\n",
       "      <td>50.000000</td>\n",
       "      <td>637.000000</td>\n",
       "      <td>53.000000</td>\n",
       "      <td>1185.000000</td>\n",
       "      <td>700.000000</td>\n",
       "      <td>10.900000</td>\n",
       "      <td>34.100000</td>\n",
       "      <td>0.692300</td>\n",
       "    </tr>\n",
       "    <tr>\n",
       "      <th>50%</th>\n",
       "      <td>1.500000</td>\n",
       "      <td>1053.000000</td>\n",
       "      <td>-200.000000</td>\n",
       "      <td>7.900000</td>\n",
       "      <td>895.000000</td>\n",
       "      <td>141.000000</td>\n",
       "      <td>794.000000</td>\n",
       "      <td>96.000000</td>\n",
       "      <td>1446.000000</td>\n",
       "      <td>942.000000</td>\n",
       "      <td>17.200000</td>\n",
       "      <td>48.600000</td>\n",
       "      <td>0.976800</td>\n",
       "    </tr>\n",
       "    <tr>\n",
       "      <th>75%</th>\n",
       "      <td>2.600000</td>\n",
       "      <td>1221.000000</td>\n",
       "      <td>-200.000000</td>\n",
       "      <td>13.600000</td>\n",
       "      <td>1105.000000</td>\n",
       "      <td>284.000000</td>\n",
       "      <td>960.000000</td>\n",
       "      <td>133.000000</td>\n",
       "      <td>1662.000000</td>\n",
       "      <td>1255.000000</td>\n",
       "      <td>24.100000</td>\n",
       "      <td>61.900000</td>\n",
       "      <td>1.296200</td>\n",
       "    </tr>\n",
       "    <tr>\n",
       "      <th>max</th>\n",
       "      <td>11.900000</td>\n",
       "      <td>2040.000000</td>\n",
       "      <td>1189.000000</td>\n",
       "      <td>63.700000</td>\n",
       "      <td>2214.000000</td>\n",
       "      <td>1479.000000</td>\n",
       "      <td>2683.000000</td>\n",
       "      <td>340.000000</td>\n",
       "      <td>2775.000000</td>\n",
       "      <td>2523.000000</td>\n",
       "      <td>44.600000</td>\n",
       "      <td>88.700000</td>\n",
       "      <td>2.231000</td>\n",
       "    </tr>\n",
       "  </tbody>\n",
       "</table>\n",
       "</div>"
      ],
      "text/plain": [
       "             CO_GT   PT08_S1_CO      NMHC_GT      C6H6_GT  PT08_S2_NMHC  \\\n",
       "count  9357.000000  9357.000000  9357.000000  9357.000000   9357.000000   \n",
       "mean    -34.207524  1048.990061  -159.090093     1.865683    894.595276   \n",
       "std      77.657170   329.832710   139.789093    41.380206    342.333252   \n",
       "min    -200.000000  -200.000000  -200.000000  -200.000000   -200.000000   \n",
       "25%       0.600000   921.000000  -200.000000     4.000000    711.000000   \n",
       "50%       1.500000  1053.000000  -200.000000     7.900000    895.000000   \n",
       "75%       2.600000  1221.000000  -200.000000    13.600000   1105.000000   \n",
       "max      11.900000  2040.000000  1189.000000    63.700000   2214.000000   \n",
       "\n",
       "            Nox_GT  PT08_S3_Nox       NO2_GT  PT08_S4_NO2   PT08_S5_O3  \\\n",
       "count  9357.000000  9357.000000  9357.000000  9357.000000  9357.000000   \n",
       "mean    168.616971   794.990168    58.148873  1391.479641   975.072032   \n",
       "std     257.433866   321.993552   126.940455   467.210125   456.938184   \n",
       "min    -200.000000  -200.000000  -200.000000  -200.000000  -200.000000   \n",
       "25%      50.000000   637.000000    53.000000  1185.000000   700.000000   \n",
       "50%     141.000000   794.000000    96.000000  1446.000000   942.000000   \n",
       "75%     284.000000   960.000000   133.000000  1662.000000  1255.000000   \n",
       "max    1479.000000  2683.000000   340.000000  2775.000000  2523.000000   \n",
       "\n",
       "                 T           RH           AH  \n",
       "count  9357.000000  9357.000000  9357.000000  \n",
       "mean      9.778305    39.485380    -6.837604  \n",
       "std      43.203623    51.216145    38.976670  \n",
       "min    -200.000000  -200.000000  -200.000000  \n",
       "25%      10.900000    34.100000     0.692300  \n",
       "50%      17.200000    48.600000     0.976800  \n",
       "75%      24.100000    61.900000     1.296200  \n",
       "max      44.600000    88.700000     2.231000  "
      ]
     },
     "execution_count": 25,
     "metadata": {},
     "output_type": "execute_result"
    }
   ],
   "source": [
    "#check the basic statistics in the dataset\n",
    "df.describe()"
   ]
  },
  {
   "cell_type": "code",
   "execution_count": 20,
   "id": "a28411af",
   "metadata": {},
   "outputs": [
    {
     "name": "stdout",
     "output_type": "stream",
     "text": [
      "<class 'pandas.core.frame.DataFrame'>\n",
      "RangeIndex: 9357 entries, 0 to 9356\n",
      "Data columns (total 15 columns):\n",
      " #   Column        Non-Null Count  Dtype         \n",
      "---  ------        --------------  -----         \n",
      " 0   datetime      9357 non-null   datetime64[ns]\n",
      " 1   CO_GT         9357 non-null   float64       \n",
      " 2   PT08_S1_CO    9357 non-null   int64         \n",
      " 3   NMHC_GT       9357 non-null   int64         \n",
      " 4   C6H6_GT       9357 non-null   float64       \n",
      " 5   PT08_S2_NMHC  9357 non-null   int64         \n",
      " 6   Nox_GT        9357 non-null   int64         \n",
      " 7   PT08_S3_Nox   9357 non-null   int64         \n",
      " 8   NO2_GT        9357 non-null   int64         \n",
      " 9   PT08_S4_NO2   9357 non-null   int64         \n",
      " 10  PT08_S5_O3    9357 non-null   int64         \n",
      " 11  T             9357 non-null   float64       \n",
      " 12  RH            9357 non-null   float64       \n",
      " 13  AH            9357 non-null   float64       \n",
      " 14  CO_level      9357 non-null   object        \n",
      "dtypes: datetime64[ns](1), float64(5), int64(8), object(1)\n",
      "memory usage: 1.1+ MB\n"
     ]
    }
   ],
   "source": [
    "#check the data file for NaN count and datatypes\n",
    "df.info()"
   ]
  },
  {
   "cell_type": "code",
   "execution_count": 22,
   "id": "3a6faa61",
   "metadata": {},
   "outputs": [
    {
     "data": {
      "text/plain": [
       "<matplotlib.axes._subplots.AxesSubplot at 0x7f77b31cd690>"
      ]
     },
     "execution_count": 22,
     "metadata": {},
     "output_type": "execute_result"
    },
    {
     "data": {
      "image/png": "[encoded data removed]",
      "text/plain": [
       "<Figure size 1800x720 with 2 Axes>"
      ]
     },
     "metadata": {
      "needs_background": "light"
     },
     "output_type": "display_data"
    }
   ],
   "source": [
    "#This plot indicates missing values\n",
    "msno.matrix(df)"
   ]
  },
  {
   "cell_type": "code",
   "execution_count": 32,
   "id": "7c005f0b",
   "metadata": {},
   "outputs": [
    {
     "data": {
      "text/plain": [
       "datetime        0\n",
       "CO_GT           0\n",
       "PT08_S1_CO      0\n",
       "NMHC_GT         0\n",
       "C6H6_GT         0\n",
       "PT08_S2_NMHC    0\n",
       "Nox_GT          0\n",
       "PT08_S3_Nox     0\n",
       "NO2_GT          0\n",
       "PT08_S4_NO2     0\n",
       "PT08_S5_O3      0\n",
       "T               0\n",
       "RH              0\n",
       "AH              0\n",
       "CO_level        0\n",
       "dtype: int64"
      ]
     },
     "execution_count": 32,
     "metadata": {},
     "output_type": "execute_result"
    }
   ],
   "source": [
    "#This data frame indicates missing values in numbers\n",
    "df.isnull().sum()  "
   ]
  },
  {
   "cell_type": "markdown",
   "id": "987c6ccf",
   "metadata": {},
   "source": [
    "**ANALYSIS TAKE-AWAY:** The file for the UCI AQ dataset first party data has no missing values."
   ]
  },
  {
   "cell_type": "code",
   "execution_count": 29,
   "id": "fcbfdb99",
   "metadata": {},
   "outputs": [
    {
     "data": {
      "text/plain": [
       "(9357, 15)"
      ]
     },
     "execution_count": 29,
     "metadata": {},
     "output_type": "execute_result"
    }
   ],
   "source": [
    "#Check the shape of the dataset\n",
    "df.shape"
   ]
  },
  {
   "cell_type": "code",
   "execution_count": 30,
   "id": "75c807ba",
   "metadata": {},
   "outputs": [
    {
     "data": {
      "text/plain": [
       "Index(['datetime', 'CO_GT', 'PT08_S1_CO', 'NMHC_GT', 'C6H6_GT', 'PT08_S2_NMHC',\n",
       "       'Nox_GT', 'PT08_S3_Nox', 'NO2_GT', 'PT08_S4_NO2', 'PT08_S5_O3', 'T',\n",
       "       'RH', 'AH', 'CO_level'],\n",
       "      dtype='object')"
      ]
     },
     "execution_count": 30,
     "metadata": {},
     "output_type": "execute_result"
    }
   ],
   "source": [
    "#Check the column headers\n",
    "df.columns"
   ]
  },
  {
   "cell_type": "code",
   "execution_count": null,
   "id": "ef6fefc5",
   "metadata": {},
   "outputs": [],
   "source": []
  }
 ],
 "metadata": {
  "kernelspec": {
   "display_name": "Python 3 (ipykernel)",
   "language": "python",
   "name": "python3"
  },
  "language_info": {
   "codemirror_mode": {
    "name": "ipython",
    "version": 3
   },
   "file_extension": ".py",
   "mimetype": "text/x-python",
   "name": "python",
   "nbconvert_exporter": "python",
   "pygments_lexer": "ipython3",
   "version": "3.7.13"
  }
 },
 "nbformat": 4,
 "nbformat_minor": 5
}
